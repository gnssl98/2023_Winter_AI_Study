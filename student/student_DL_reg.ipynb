{
 "cells": [
  {
   "cell_type": "code",
   "execution_count": 1,
   "id": "72999a65",
   "metadata": {},
   "outputs": [],
   "source": [
    "# 데이터셋 \n",
    "# https://archive.ics.uci.edu/dataset/320/student+performance\n",
    "\n",
    "import numpy as np\n",
    "import pandas as pd\n",
    "import seaborn as sns\n",
    "from sklearn.model_selection import train_test_split\n",
    "import tensorflow as tf\n",
    "from tensorflow import keras\n",
    "import matplotlib.pyplot as plt\n"
   ]
  },
  {
   "cell_type": "code",
   "execution_count": 2,
   "id": "c5aa1af7",
   "metadata": {},
   "outputs": [],
   "source": [
    "df = pd.read_csv(\"/Users/anchanghun/Downloads/AI_Study/student/dataset/student+performance/student-por.csv\", sep=\";\")\n"
   ]
  },
  {
   "cell_type": "code",
   "execution_count": 3,
   "id": "94819e60",
   "metadata": {},
   "outputs": [
    {
     "data": {
      "text/plain": [
       "Index(['school', 'sex', 'age', 'address', 'famsize', 'Pstatus', 'Medu', 'Fedu',\n",
       "       'Mjob', 'Fjob', 'reason', 'guardian', 'traveltime', 'studytime',\n",
       "       'failures', 'schoolsup', 'famsup', 'paid', 'activities', 'nursery',\n",
       "       'higher', 'internet', 'romantic', 'famrel', 'freetime', 'goout', 'Dalc',\n",
       "       'Walc', 'health', 'absences', 'G1', 'G2', 'G3'],\n",
       "      dtype='object')"
      ]
     },
     "execution_count": 3,
     "metadata": {},
     "output_type": "execute_result"
    }
   ],
   "source": [
    "df.columns"
   ]
  },
  {
   "cell_type": "code",
   "execution_count": 4,
   "id": "b9038ac7",
   "metadata": {},
   "outputs": [],
   "source": [
    "df['sex'] = df['sex'].replace({'F': 1, 'M': 0})\n",
    "df['schoolsup'] = df['schoolsup'].replace({'yes': 1, 'no': 0})\n",
    "df['famsup'] = df['famsup'].replace({'yes': 1, 'no': 0})\n",
    "df['nursery'] = df['nursery'].replace({'yes': 1, 'no': 0})\n",
    "df['activities'] = df['activities'].replace({'yes': 1, 'no': 0})\n",
    "df['higher'] = df['higher'].replace({'yes': 1, 'no': 0})\n",
    "df['internet'] = df['internet'].replace({'yes': 1, 'no': 0})\n",
    "df['romantic'] = df['romantic'].replace({'yes': 1, 'no': 0})\n",
    "df['paid'] = df['paid'].replace({'yes': 1, 'no': 0})\n",
    "\n",
    "\n",
    "df['Mjob'] = df['Mjob'].replace({'at_home': 0,'teacher': 1, 'health': 2, 'services' : 3, 'other' : 4,})\n",
    "df['Fjob'] = df['Fjob'].replace({'at_home': 0,'teacher': 1, 'health': 2, 'services' : 3, 'other' : 4,})\n",
    "\n",
    "\n",
    "df['Pstatus'] = df['Pstatus'].replace({'T': 1, 'A': 0})\n"
   ]
  },
  {
   "cell_type": "code",
   "execution_count": 5,
   "id": "95576baa",
   "metadata": {},
   "outputs": [],
   "source": [
    "df_encoded = pd.get_dummies(df)"
   ]
  },
  {
   "cell_type": "code",
   "execution_count": 6,
   "id": "df94f96f",
   "metadata": {
    "scrolled": true
   },
   "outputs": [
    {
     "data": {
      "text/plain": [
       "G3                   1.000000\n",
       "G2                   0.918548\n",
       "G1                   0.826387\n",
       "higher               0.332172\n",
       "school_GP            0.284294\n",
       "studytime            0.249789\n",
       "Medu                 0.240151\n",
       "Fedu                 0.211800\n",
       "reason_reputation    0.170944\n",
       "address_U            0.167637\n",
       "internet             0.150025\n",
       "sex                  0.129077\n",
       "famrel               0.063361\n",
       "activities           0.059791\n",
       "famsup               0.059206\n",
       "guardian_father      0.051030\n",
       "reason_home          0.046537\n",
       "famsize_LE3          0.045016\n",
       "nursery              0.028752\n",
       "Mjob                 0.016596\n",
       "Pstatus             -0.000754\n",
       "guardian_mother     -0.004415\n",
       "Fjob                -0.033332\n",
       "famsize_GT3         -0.045016\n",
       "paid                -0.054898\n",
       "schoolsup           -0.066405\n",
       "guardian_other      -0.080729\n",
       "goout               -0.087641\n",
       "romantic            -0.090583\n",
       "absences            -0.091379\n",
       "reason_course       -0.098305\n",
       "health              -0.098851\n",
       "age                 -0.106505\n",
       "freetime            -0.122705\n",
       "traveltime          -0.127173\n",
       "reason_other        -0.132577\n",
       "address_R           -0.167637\n",
       "Walc                -0.176619\n",
       "Dalc                -0.204719\n",
       "school_MS           -0.284294\n",
       "failures            -0.393316\n",
       "Name: G3, dtype: float64"
      ]
     },
     "execution_count": 6,
     "metadata": {},
     "output_type": "execute_result"
    }
   ],
   "source": [
    "df_encoded.corr()['G3'].sort_values(ascending=False)"
   ]
  },
  {
   "cell_type": "code",
   "execution_count": 7,
   "id": "85f1a2ad",
   "metadata": {},
   "outputs": [],
   "source": [
    "columns_to_drop = ['health','Dalc','Walc','Mjob', 'Fjob', 'freetime', 'traveltime','age', 'Pstatus','guardian_mother','guardian_other','guardian_father','goout','romantic','absences']\n",
    "df_encoded = df_encoded.drop(columns=columns_to_drop)\n"
   ]
  },
  {
   "cell_type": "code",
   "execution_count": 8,
   "id": "dc8f80a2",
   "metadata": {},
   "outputs": [
    {
     "data": {
      "text/plain": [
       "Index(['sex', 'Medu', 'Fedu', 'studytime', 'failures', 'schoolsup', 'famsup',\n",
       "       'paid', 'activities', 'nursery', 'higher', 'internet', 'famrel', 'G1',\n",
       "       'G2', 'G3', 'school_GP', 'school_MS', 'address_R', 'address_U',\n",
       "       'famsize_GT3', 'famsize_LE3', 'reason_course', 'reason_home',\n",
       "       'reason_other', 'reason_reputation'],\n",
       "      dtype='object')"
      ]
     },
     "execution_count": 8,
     "metadata": {},
     "output_type": "execute_result"
    }
   ],
   "source": [
    "df_encoded.columns"
   ]
  },
  {
   "cell_type": "code",
   "execution_count": 9,
   "id": "4930ad6c",
   "metadata": {},
   "outputs": [
    {
     "name": "stdout",
     "output_type": "stream",
     "text": [
      "<class 'pandas.core.frame.DataFrame'>\n",
      "RangeIndex: 649 entries, 0 to 648\n",
      "Data columns (total 26 columns):\n",
      " #   Column             Non-Null Count  Dtype\n",
      "---  ------             --------------  -----\n",
      " 0   sex                649 non-null    int64\n",
      " 1   Medu               649 non-null    int64\n",
      " 2   Fedu               649 non-null    int64\n",
      " 3   studytime          649 non-null    int64\n",
      " 4   failures           649 non-null    int64\n",
      " 5   schoolsup          649 non-null    int64\n",
      " 6   famsup             649 non-null    int64\n",
      " 7   paid               649 non-null    int64\n",
      " 8   activities         649 non-null    int64\n",
      " 9   nursery            649 non-null    int64\n",
      " 10  higher             649 non-null    int64\n",
      " 11  internet           649 non-null    int64\n",
      " 12  famrel             649 non-null    int64\n",
      " 13  G1                 649 non-null    int64\n",
      " 14  G2                 649 non-null    int64\n",
      " 15  G3                 649 non-null    int64\n",
      " 16  school_GP          649 non-null    bool \n",
      " 17  school_MS          649 non-null    bool \n",
      " 18  address_R          649 non-null    bool \n",
      " 19  address_U          649 non-null    bool \n",
      " 20  famsize_GT3        649 non-null    bool \n",
      " 21  famsize_LE3        649 non-null    bool \n",
      " 22  reason_course      649 non-null    bool \n",
      " 23  reason_home        649 non-null    bool \n",
      " 24  reason_other       649 non-null    bool \n",
      " 25  reason_reputation  649 non-null    bool \n",
      "dtypes: bool(10), int64(16)\n",
      "memory usage: 87.6 KB\n"
     ]
    }
   ],
   "source": [
    "df_encoded.info()"
   ]
  },
  {
   "cell_type": "code",
   "execution_count": 10,
   "id": "98cdee85",
   "metadata": {},
   "outputs": [
    {
     "name": "stdout",
     "output_type": "stream",
     "text": [
      "<class 'pandas.core.frame.DataFrame'>\n",
      "RangeIndex: 649 entries, 0 to 648\n",
      "Data columns (total 26 columns):\n",
      " #   Column             Non-Null Count  Dtype\n",
      "---  ------             --------------  -----\n",
      " 0   sex                649 non-null    int64\n",
      " 1   Medu               649 non-null    int64\n",
      " 2   Fedu               649 non-null    int64\n",
      " 3   studytime          649 non-null    int64\n",
      " 4   failures           649 non-null    int64\n",
      " 5   schoolsup          649 non-null    int64\n",
      " 6   famsup             649 non-null    int64\n",
      " 7   paid               649 non-null    int64\n",
      " 8   activities         649 non-null    int64\n",
      " 9   nursery            649 non-null    int64\n",
      " 10  higher             649 non-null    int64\n",
      " 11  internet           649 non-null    int64\n",
      " 12  famrel             649 non-null    int64\n",
      " 13  G1                 649 non-null    int64\n",
      " 14  G2                 649 non-null    int64\n",
      " 15  G3                 649 non-null    int64\n",
      " 16  school_GP          649 non-null    int64\n",
      " 17  school_MS          649 non-null    int64\n",
      " 18  address_R          649 non-null    int64\n",
      " 19  address_U          649 non-null    int64\n",
      " 20  famsize_GT3        649 non-null    int64\n",
      " 21  famsize_LE3        649 non-null    int64\n",
      " 22  reason_course      649 non-null    int64\n",
      " 23  reason_home        649 non-null    int64\n",
      " 24  reason_other       649 non-null    int64\n",
      " 25  reason_reputation  649 non-null    int64\n",
      "dtypes: int64(26)\n",
      "memory usage: 132.0 KB\n"
     ]
    }
   ],
   "source": [
    "\n",
    "for col in df_encoded.columns:\n",
    "    if df_encoded[col].dtype==bool:\n",
    "        df_encoded[col] = df_encoded[col].astype(int)\n",
    "        \n",
    "df_encoded.info()"
   ]
  },
  {
   "cell_type": "code",
   "execution_count": 11,
   "id": "0e314f9c",
   "metadata": {},
   "outputs": [
    {
     "data": {
      "text/html": [
       "<div>\n",
       "<style scoped>\n",
       "    .dataframe tbody tr th:only-of-type {\n",
       "        vertical-align: middle;\n",
       "    }\n",
       "\n",
       "    .dataframe tbody tr th {\n",
       "        vertical-align: top;\n",
       "    }\n",
       "\n",
       "    .dataframe thead th {\n",
       "        text-align: right;\n",
       "    }\n",
       "</style>\n",
       "<table border=\"1\" class=\"dataframe\">\n",
       "  <thead>\n",
       "    <tr style=\"text-align: right;\">\n",
       "      <th></th>\n",
       "      <th>sex</th>\n",
       "      <th>Medu</th>\n",
       "      <th>Fedu</th>\n",
       "      <th>studytime</th>\n",
       "      <th>failures</th>\n",
       "      <th>schoolsup</th>\n",
       "      <th>famsup</th>\n",
       "      <th>paid</th>\n",
       "      <th>activities</th>\n",
       "      <th>nursery</th>\n",
       "      <th>...</th>\n",
       "      <th>school_GP</th>\n",
       "      <th>school_MS</th>\n",
       "      <th>address_R</th>\n",
       "      <th>address_U</th>\n",
       "      <th>famsize_GT3</th>\n",
       "      <th>famsize_LE3</th>\n",
       "      <th>reason_course</th>\n",
       "      <th>reason_home</th>\n",
       "      <th>reason_other</th>\n",
       "      <th>reason_reputation</th>\n",
       "    </tr>\n",
       "  </thead>\n",
       "  <tbody>\n",
       "    <tr>\n",
       "      <th>0</th>\n",
       "      <td>1</td>\n",
       "      <td>4</td>\n",
       "      <td>4</td>\n",
       "      <td>2</td>\n",
       "      <td>0</td>\n",
       "      <td>1</td>\n",
       "      <td>0</td>\n",
       "      <td>0</td>\n",
       "      <td>0</td>\n",
       "      <td>1</td>\n",
       "      <td>...</td>\n",
       "      <td>1</td>\n",
       "      <td>0</td>\n",
       "      <td>0</td>\n",
       "      <td>1</td>\n",
       "      <td>1</td>\n",
       "      <td>0</td>\n",
       "      <td>1</td>\n",
       "      <td>0</td>\n",
       "      <td>0</td>\n",
       "      <td>0</td>\n",
       "    </tr>\n",
       "    <tr>\n",
       "      <th>1</th>\n",
       "      <td>1</td>\n",
       "      <td>1</td>\n",
       "      <td>1</td>\n",
       "      <td>2</td>\n",
       "      <td>0</td>\n",
       "      <td>0</td>\n",
       "      <td>1</td>\n",
       "      <td>0</td>\n",
       "      <td>0</td>\n",
       "      <td>0</td>\n",
       "      <td>...</td>\n",
       "      <td>1</td>\n",
       "      <td>0</td>\n",
       "      <td>0</td>\n",
       "      <td>1</td>\n",
       "      <td>1</td>\n",
       "      <td>0</td>\n",
       "      <td>1</td>\n",
       "      <td>0</td>\n",
       "      <td>0</td>\n",
       "      <td>0</td>\n",
       "    </tr>\n",
       "    <tr>\n",
       "      <th>2</th>\n",
       "      <td>1</td>\n",
       "      <td>1</td>\n",
       "      <td>1</td>\n",
       "      <td>2</td>\n",
       "      <td>0</td>\n",
       "      <td>1</td>\n",
       "      <td>0</td>\n",
       "      <td>0</td>\n",
       "      <td>0</td>\n",
       "      <td>1</td>\n",
       "      <td>...</td>\n",
       "      <td>1</td>\n",
       "      <td>0</td>\n",
       "      <td>0</td>\n",
       "      <td>1</td>\n",
       "      <td>0</td>\n",
       "      <td>1</td>\n",
       "      <td>0</td>\n",
       "      <td>0</td>\n",
       "      <td>1</td>\n",
       "      <td>0</td>\n",
       "    </tr>\n",
       "    <tr>\n",
       "      <th>3</th>\n",
       "      <td>1</td>\n",
       "      <td>4</td>\n",
       "      <td>2</td>\n",
       "      <td>3</td>\n",
       "      <td>0</td>\n",
       "      <td>0</td>\n",
       "      <td>1</td>\n",
       "      <td>0</td>\n",
       "      <td>1</td>\n",
       "      <td>1</td>\n",
       "      <td>...</td>\n",
       "      <td>1</td>\n",
       "      <td>0</td>\n",
       "      <td>0</td>\n",
       "      <td>1</td>\n",
       "      <td>1</td>\n",
       "      <td>0</td>\n",
       "      <td>0</td>\n",
       "      <td>1</td>\n",
       "      <td>0</td>\n",
       "      <td>0</td>\n",
       "    </tr>\n",
       "    <tr>\n",
       "      <th>4</th>\n",
       "      <td>1</td>\n",
       "      <td>3</td>\n",
       "      <td>3</td>\n",
       "      <td>2</td>\n",
       "      <td>0</td>\n",
       "      <td>0</td>\n",
       "      <td>1</td>\n",
       "      <td>0</td>\n",
       "      <td>0</td>\n",
       "      <td>1</td>\n",
       "      <td>...</td>\n",
       "      <td>1</td>\n",
       "      <td>0</td>\n",
       "      <td>0</td>\n",
       "      <td>1</td>\n",
       "      <td>1</td>\n",
       "      <td>0</td>\n",
       "      <td>0</td>\n",
       "      <td>1</td>\n",
       "      <td>0</td>\n",
       "      <td>0</td>\n",
       "    </tr>\n",
       "  </tbody>\n",
       "</table>\n",
       "<p>5 rows × 25 columns</p>\n",
       "</div>"
      ],
      "text/plain": [
       "   sex  Medu  Fedu  studytime  failures  schoolsup  famsup  paid  activities  \\\n",
       "0    1     4     4          2         0          1       0     0           0   \n",
       "1    1     1     1          2         0          0       1     0           0   \n",
       "2    1     1     1          2         0          1       0     0           0   \n",
       "3    1     4     2          3         0          0       1     0           1   \n",
       "4    1     3     3          2         0          0       1     0           0   \n",
       "\n",
       "   nursery  ...  school_GP  school_MS  address_R  address_U  famsize_GT3  \\\n",
       "0        1  ...          1          0          0          1            1   \n",
       "1        0  ...          1          0          0          1            1   \n",
       "2        1  ...          1          0          0          1            0   \n",
       "3        1  ...          1          0          0          1            1   \n",
       "4        1  ...          1          0          0          1            1   \n",
       "\n",
       "   famsize_LE3  reason_course  reason_home  reason_other  reason_reputation  \n",
       "0            0              1            0             0                  0  \n",
       "1            0              1            0             0                  0  \n",
       "2            1              0            0             1                  0  \n",
       "3            0              0            1             0                  0  \n",
       "4            0              0            1             0                  0  \n",
       "\n",
       "[5 rows x 25 columns]"
      ]
     },
     "execution_count": 11,
     "metadata": {},
     "output_type": "execute_result"
    }
   ],
   "source": [
    "X = df_encoded.drop('G3',axis=1)\n",
    "X.head()"
   ]
  },
  {
   "cell_type": "code",
   "execution_count": 12,
   "id": "303bc496",
   "metadata": {},
   "outputs": [
    {
     "data": {
      "text/plain": [
       "0    11\n",
       "1    11\n",
       "2    12\n",
       "3    14\n",
       "4    13\n",
       "Name: G3, dtype: int64"
      ]
     },
     "execution_count": 12,
     "metadata": {},
     "output_type": "execute_result"
    }
   ],
   "source": [
    "y = df_encoded['G3']\n",
    "y.head()"
   ]
  },
  {
   "cell_type": "code",
   "execution_count": 13,
   "id": "be83b076",
   "metadata": {},
   "outputs": [],
   "source": [
    "X=X.values"
   ]
  },
  {
   "cell_type": "code",
   "execution_count": 14,
   "id": "47d358ec",
   "metadata": {},
   "outputs": [
    {
     "data": {
      "text/plain": [
       "array([[1, 4, 4, ..., 0, 0, 0],\n",
       "       [1, 1, 1, ..., 0, 0, 0],\n",
       "       [1, 1, 1, ..., 0, 1, 0],\n",
       "       ...,\n",
       "       [1, 1, 1, ..., 0, 0, 0],\n",
       "       [0, 3, 1, ..., 0, 0, 0],\n",
       "       [0, 3, 2, ..., 0, 0, 0]])"
      ]
     },
     "execution_count": 14,
     "metadata": {},
     "output_type": "execute_result"
    }
   ],
   "source": [
    "X"
   ]
  },
  {
   "cell_type": "code",
   "execution_count": 15,
   "id": "ac1e20c9",
   "metadata": {},
   "outputs": [
    {
     "data": {
      "text/plain": [
       "0      11\n",
       "1      11\n",
       "2      12\n",
       "3      14\n",
       "4      13\n",
       "       ..\n",
       "644    10\n",
       "645    16\n",
       "646     9\n",
       "647    10\n",
       "648    11\n",
       "Name: G3, Length: 649, dtype: int64"
      ]
     },
     "execution_count": 15,
     "metadata": {},
     "output_type": "execute_result"
    }
   ],
   "source": [
    "y"
   ]
  },
  {
   "cell_type": "code",
   "execution_count": 16,
   "id": "6413f0af",
   "metadata": {},
   "outputs": [],
   "source": [
    "X_train,X_test, y_train,y_test = train_test_split(X,y,test_size=0.2,random_state=0) "
   ]
  },
  {
   "cell_type": "code",
   "execution_count": 17,
   "id": "e6577ffa",
   "metadata": {},
   "outputs": [
    {
     "data": {
      "text/plain": [
       "((519, 25), (519,), (130, 25), (130,))"
      ]
     },
     "execution_count": 17,
     "metadata": {},
     "output_type": "execute_result"
    }
   ],
   "source": [
    "X_train.shape, y_train.shape, X_test.shape, y_test.shape,"
   ]
  },
  {
   "cell_type": "code",
   "execution_count": 18,
   "id": "dccf32b3",
   "metadata": {},
   "outputs": [],
   "source": [
    "import keras"
   ]
  },
  {
   "cell_type": "code",
   "execution_count": 19,
   "id": "2ce91e2f",
   "metadata": {},
   "outputs": [
    {
     "name": "stdout",
     "output_type": "stream",
     "text": [
      "Model: \"sequential\"\n",
      "_________________________________________________________________\n",
      " Layer (type)                Output Shape              Param #   \n",
      "=================================================================\n",
      " dense (Dense)               (None, 8)                 208       \n",
      "                                                                 \n",
      " dense_1 (Dense)             (None, 30)                270       \n",
      "                                                                 \n",
      " dense_2 (Dense)             (None, 30)                930       \n",
      "                                                                 \n",
      " dense_3 (Dense)             (None, 1)                 31        \n",
      "                                                                 \n",
      "=================================================================\n",
      "Total params: 1439 (5.62 KB)\n",
      "Trainable params: 1439 (5.62 KB)\n",
      "Non-trainable params: 0 (0.00 Byte)\n",
      "_________________________________________________________________\n"
     ]
    }
   ],
   "source": [
    "import tensorflow as tf\n",
    "\n",
    "from keras.layers import Dense\n",
    "from keras.optimizers import SGD,Adam\n",
    "from keras.models import Sequential\n",
    "\n",
    "\n",
    "model = Sequential()\n",
    "\n",
    "model.add(Dense(8,input_shape=(25,),activation='tanh'))\n",
    "model.add(Dense(30,activation='tanh'))\n",
    "model.add(Dense(30,activation='tanh'))\n",
    "model.add(Dense(1))\n",
    "\n",
    "model.compile(optimizer = 'rmsprop', loss = 'mse', metrics = ['mse'])\n",
    "\n",
    "model.summary()"
   ]
  },
  {
   "cell_type": "code",
   "execution_count": 20,
   "id": "46e34b8c",
   "metadata": {},
   "outputs": [
    {
     "name": "stdout",
     "output_type": "stream",
     "text": [
      "Epoch 1/10\n",
      "17/17 [==============================] - 0s 4ms/step - loss: 118.4872 - mse: 118.4872 - val_loss: 89.8774 - val_mse: 89.8774\n",
      "Epoch 2/10\n",
      "17/17 [==============================] - 0s 883us/step - loss: 73.9589 - mse: 73.9589 - val_loss: 59.1865 - val_mse: 59.1865\n",
      "Epoch 3/10\n",
      "17/17 [==============================] - 0s 832us/step - loss: 50.1383 - mse: 50.1383 - val_loss: 40.3684 - val_mse: 40.3684\n",
      "Epoch 4/10\n",
      "17/17 [==============================] - 0s 847us/step - loss: 35.5038 - mse: 35.5038 - val_loss: 28.3932 - val_mse: 28.3932\n",
      "Epoch 5/10\n",
      "17/17 [==============================] - 0s 904us/step - loss: 26.4653 - mse: 26.4653 - val_loss: 21.0229 - val_mse: 21.0229\n",
      "Epoch 6/10\n",
      "17/17 [==============================] - 0s 859us/step - loss: 20.8457 - mse: 20.8457 - val_loss: 16.2679 - val_mse: 16.2679\n",
      "Epoch 7/10\n",
      "17/17 [==============================] - 0s 898us/step - loss: 17.1504 - mse: 17.1504 - val_loss: 13.2570 - val_mse: 13.2570\n",
      "Epoch 8/10\n",
      "17/17 [==============================] - 0s 871us/step - loss: 14.6477 - mse: 14.6477 - val_loss: 10.7988 - val_mse: 10.7988\n",
      "Epoch 9/10\n",
      "17/17 [==============================] - 0s 877us/step - loss: 12.6300 - mse: 12.6300 - val_loss: 9.0035 - val_mse: 9.0035\n",
      "Epoch 10/10\n",
      "17/17 [==============================] - 0s 875us/step - loss: 10.8689 - mse: 10.8689 - val_loss: 7.4988 - val_mse: 7.4988\n",
      "5/5 [==============================] - 0s 454us/step\n"
     ]
    }
   ],
   "source": [
    "N_EPOCHS = 10\n",
    "\n",
    "history=model.fit(x=X_train, y=y_train, epochs=N_EPOCHS, batch_size=32,validation_data= (X_test,y_test))\n",
    "y_pred = model.predict(X_test)"
   ]
  },
  {
   "cell_type": "code",
   "execution_count": 21,
   "id": "63592d0b",
   "metadata": {},
   "outputs": [
    {
     "data": {
      "image/png": "[encoded data removed]",
      "text/plain": [
       "<Figure size 1000x700 with 1 Axes>"
      ]
     },
     "metadata": {},
     "output_type": "display_data"
    }
   ],
   "source": [
    "plt.figure(figsize=(10,7))\n",
    "plt.plot(range(N_EPOCHS), history.history['loss'], label='train loss')\n",
    "plt.plot(range(N_EPOCHS), history.history['val_loss'], label='test loss')\n",
    "plt.xlabel('Epoch')\n",
    "plt.ylabel('Loss')\n",
    "plt.legend()\n",
    "plt.show()"
   ]
  },
  {
   "cell_type": "code",
   "execution_count": 22,
   "id": "9f7cdb56",
   "metadata": {},
   "outputs": [
    {
     "name": "stdout",
     "output_type": "stream",
     "text": [
      "5/5 [==============================] - 0s 685us/step - loss: 7.4988 - mse: 7.4988\n"
     ]
    },
    {
     "data": {
      "text/plain": [
       "[7.498788833618164, 7.498788833618164]"
      ]
     },
     "execution_count": 22,
     "metadata": {},
     "output_type": "execute_result"
    }
   ],
   "source": [
    "model.evaluate(X_test, y_test)"
   ]
  }
 ],
 "metadata": {
  "kernelspec": {
   "display_name": "Python 3 (ipykernel)",
   "language": "python",
   "name": "python3"
  },
  "language_info": {
   "codemirror_mode": {
    "name": "ipython",
    "version": 3
   },
   "file_extension": ".py",
   "mimetype": "text/x-python",
   "name": "python",
   "nbconvert_exporter": "python",
   "pygments_lexer": "ipython3",
   "version": "3.11.5"
  }
 },
 "nbformat": 4,
 "nbformat_minor": 5
}
